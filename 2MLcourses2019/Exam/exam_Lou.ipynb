{
 "cells": [
  {
   "cell_type": "markdown",
   "metadata": {},
   "source": [
    "# Problem: Logistic regression\n",
    "\n",
    "In this exercice we consider students that apply to a Master program in an University. Their chance of being accepted depend on several criteria among which the marks they obtained to two exams (called Exam1 and Exam2).\n",
    "\n",
    "We want to build a simple probabilistic model based only on the results obtained for these two exams. For this we use Logistic Regression to calculate the probability for a student to be accepted to the Master program given the marks he obtained for each exam:\n",
    "\n",
    "$$\\text{p(accepted)} = \\sigma(w_0 + w_1 \\cdot \\text{Exam1} + w_2 \\cdot \\text{Exam2}),$$\n",
    "\n",
    "where $\\sigma()$ is the sigmoid function.\n",
    "\n",
    "By analysing the success rate of the applicants of the previous years it was possible to determine the weights of this model, and these were estimated to be:\n",
    "\n",
    "$$ w_0 = -44.997, w_1 = 0.36357, w_2 = 0.35662$$\n",
    "\n",
    "In this exercice we would like to estimate the probability of 100 new students to be accepted to the Master program given the marks that they obtained to their exams.\n"
   ]
  },
  {
   "cell_type": "markdown",
   "metadata": {},
   "source": [
    "### Initialize"
   ]
  },
  {
   "cell_type": "code",
   "execution_count": 2,
   "metadata": {},
   "outputs": [],
   "source": [
    "import numpy as np\n",
    "import matplotlib\n",
    "import matplotlib.pyplot as plt\n",
    "%matplotlib inline"
   ]
  },
  {
   "cell_type": "markdown",
   "metadata": {},
   "source": [
    "## 0) Question on lecture\n",
    "\n",
    "Explain how the model is trained:\n",
    "\n",
    "a) What is the loss function used here and why ?\n",
    "\n",
    "b) What method is used to minimize the loss function ?\n",
    "\n",
    "c) How are determined the weights $w_0$, $w_1$ and $w_2$ ?\n"
   ]
  },
  {
   "cell_type": "raw",
   "metadata": {},
   "source": [
    "a)the lost function used here is the sigmoid function to return the probability between 0 and 1\n",
    "b) the method use to minimize the lost function is the cross-entropy function motivated by bernouilli probability \n",
    "c) the weight w0,w1 and w2 are determined from the derivatives (gradient) of E(w) that is the cost function"
   ]
  },
  {
   "cell_type": "markdown",
   "metadata": {},
   "source": [
    "## 1) The data\n",
    "The text file below contains the marks obtained by 100 students at the two exams. \n",
    "\n",
    "a) Print the first 10 entries of the file.\n",
    "\n",
    "b) Represent this dataset on a figure with two axes: Exam1 and Exam2."
   ]
  },
  {
   "cell_type": "code",
   "execution_count": 3,
   "metadata": {},
   "outputs": [],
   "source": [
    "# Load and read file\n",
    "from numpy import genfromtxt\n",
    "student_marks = genfromtxt('marks_nolabels.txt', delimiter=',')\n"
   ]
  },
  {
   "cell_type": "code",
   "execution_count": 4,
   "metadata": {},
   "outputs": [
    {
     "name": "stdout",
     "output_type": "stream",
     "text": [
      "[[34.62365962 78.02469282]\n",
      " [30.28671077 43.89499752]\n",
      " [35.84740877 72.90219803]\n",
      " [60.18259939 86.3085521 ]\n",
      " [79.03273605 75.34437644]\n",
      " [45.08327748 56.31637178]\n",
      " [61.10666454 96.51142588]\n",
      " [75.02474557 46.55401354]\n",
      " [76.0987867  87.42056972]\n",
      " [84.43281996 43.53339331]]\n"
     ]
    }
   ],
   "source": [
    "print(student_marks[:10,:])"
   ]
  },
  {
   "cell_type": "code",
   "execution_count": 6,
   "metadata": {},
   "outputs": [
    {
     "data": {
      "image/png": "[encoded data removed]",
      "text/plain": [
       "<Figure size 576x576 with 1 Axes>"
      ]
     },
     "metadata": {
      "needs_background": "light"
     },
     "output_type": "display_data"
    }
   ],
   "source": [
    "x = student_marks[:,0]\n",
    "y = student_marks[:,1]\n",
    "fig,axes =plt.subplots(figsize=(8,8))\n",
    "axes.set_xlabel('Exam 1',fontsize=20)\n",
    "axes.set_xlabel('Exam 2',fontsize=20)\n",
    "axes.grid()\n",
    "plt.title('representation of the marks for two exams for the 100 students',fontsize=20)\n",
    "plt.scatter(x,y)\n",
    "\n",
    "plt.show()"
   ]
  },
  {
   "cell_type": "markdown",
   "metadata": {},
   "source": [
    "## 2) The model\n",
    "\n",
    "a) Write two functions, `sigmoid(x)` and `dsig(x)` that returns, respectively $\\sigma(x)$ and $\\frac{\\text{d} \\sigma}{\\text{d} x}(x)$.\n",
    "\n",
    "b) Write a function `predict` that returns the probability for each student to be accepted by the University."
   ]
  },
  {
   "cell_type": "code",
   "execution_count": 11,
   "metadata": {},
   "outputs": [],
   "source": [
    "### sigmoid(x):\n",
    "def sigmoid(x):\n",
    "    return 1/(1+np.exp(-x))\n",
    "\n",
    "### dsig(x):\n",
    "def dsig(x):\n",
    "    return sigmoid(x)*(1-sigmoid(x))"
   ]
  },
  {
   "cell_type": "code",
   "execution_count": 12,
   "metadata": {},
   "outputs": [],
   "source": [
    "features = student_marks[:,0:2]\n",
    "const = np.ones(shape=(len(features),1))\n",
    "features = np.append(const, features, axis=1)"
   ]
  },
  {
   "cell_type": "code",
   "execution_count": 13,
   "metadata": {},
   "outputs": [],
   "source": [
    "weights = np.array([-44.997, 0.36357, 0.35662])"
   ]
  },
  {
   "cell_type": "markdown",
   "metadata": {},
   "source": [
    "predict (x): p (accepted) = sigma(w0+(w1*Exam1)+(w2*exam2)\n",
    "avec w0= -44.997; w1 = 0.36357; w2= 0.35662\n",
    "t= (w0,w1,w2)"
   ]
  },
  {
   "cell_type": "code",
   "execution_count": 14,
   "metadata": {},
   "outputs": [],
   "source": [
    "def predict(x,t):\n",
    "    z = np.dot(x, t.transpose())\n",
    "    return sigmoid(z)"
   ]
  },
  {
   "cell_type": "markdown",
   "metadata": {},
   "source": [
    "## 3) Probabilities\n",
    "\n",
    "a) With the values of the weights $w_0,w_1,w_2$ given above calculate the probability for each student to be accepted. Represent the distribution of all probabilities in a histogram.\n",
    "\n",
    "b) For a threshold of p(accepted) = 0.5 how many how many students are predicted to pass or fail the acceptation at the University ?"
   ]
  },
  {
   "cell_type": "code",
   "execution_count": 17,
   "metadata": {},
   "outputs": [
    {
     "data": {
      "text/plain": [
       "100"
      ]
     },
     "execution_count": 17,
     "metadata": {},
     "output_type": "execute_result"
    }
   ],
   "source": [
    "prob = predict( features, weights)\n",
    "len(prob)"
   ]
  },
  {
   "cell_type": "code",
   "execution_count": 18,
   "metadata": {},
   "outputs": [
    {
     "data": {
      "image/png": "[encoded data removed]",
      "text/plain": [
       "<Figure size 432x288 with 1 Axes>"
      ]
     },
     "metadata": {
      "needs_background": "light"
     },
     "output_type": "display_data"
    }
   ],
   "source": [
    "_= plt.hist(prob, bins='auto')\n",
    "plt.title('The distribution of all probabilities for each student')\n",
    "plt.xlabel('Probability')\n",
    "plt.ylabel('Frequency')\n",
    "plt.show()"
   ]
  },
  {
   "cell_type": "markdown",
   "metadata": {},
   "source": [
    "For a threshold of p(accepted)=0.5 how many students are predicted to pass or fail the acceptation at the University"
   ]
  },
  {
   "cell_type": "code",
   "execution_count": 20,
   "metadata": {},
   "outputs": [
    {
     "name": "stdout",
     "output_type": "stream",
     "text": [
      "The are 59 students are predicted to pass the acceptation at the University\n",
      "The are 41 students are predicted to fail the acceptation at the University\n"
     ]
    }
   ],
   "source": [
    "accepted = 0\n",
    "failed = 0\n",
    "for i in range(len(prob)):\n",
    "    if prob[i] >= 0.5:\n",
    "        accepted = accepted + 1\n",
    "    else:\n",
    "        failed = failed + 1\n",
    "print('The are ' + str(accepted ), 'students are predicted to pass the acceptation at the University')\n",
    "print('The are '+ str(failed), 'students are predicted to fail the acceptation at the University')\n",
    "\n",
    "    "
   ]
  },
  {
   "cell_type": "markdown",
   "metadata": {},
   "source": [
    "## 4) Results\n",
    "\n",
    "a) Represent the data in a figure with two axes (Exam1 and Exam2). Show with a red marker students that are predicted to fail the admission and with a blue marker students who are predicted to pass.\n",
    "\n",
    "b) Modify this figure showing this time the markers with a color depending on the probability value: from dark red for low probabilities to dark blue for high probabilities.\n",
    "\n",
    "c) Add a line showing the decision boundary separing both classes.  Hint: this line correspond to points for which p(accepted)=0.5, that is, students for which the weighted sum is such that $(w_0 + w_1 \\cdot \\text{Exam1} + w_2 \\cdot \\text{Exam2})=0$."
   ]
  },
  {
   "cell_type": "code",
   "execution_count": 21,
   "metadata": {},
   "outputs": [
    {
     "data": {
      "text/plain": [
       "100"
      ]
     },
     "execution_count": 21,
     "metadata": {},
     "output_type": "execute_result"
    }
   ],
   "source": [
    "prob.shape = (np.size(prob),1)\n",
    "len(prob)"
   ]
  },
  {
   "cell_type": "code",
   "execution_count": 23,
   "metadata": {},
   "outputs": [],
   "source": [
    "data = np.append(features, prob, axis=1)"
   ]
  },
  {
   "cell_type": "code",
   "execution_count": 24,
   "metadata": {},
   "outputs": [],
   "source": [
    "labels = []\n",
    "for i in range(len(prob)):\n",
    "    if prob[i] >= 0.5:\n",
    "        labels.append(1)\n",
    "    else:\n",
    "        labels.append(0)\n",
    "        \n",
    "labels = np.asarray(labels)\n",
    "labels.shape = (np.size(labels),1)"
   ]
  },
  {
   "cell_type": "code",
   "execution_count": 25,
   "metadata": {},
   "outputs": [],
   "source": [
    "data_complete = np.append(data, labels, axis=1)\n",
    "#data_complete[:10,:]"
   ]
  },
  {
   "cell_type": "code",
   "execution_count": 28,
   "metadata": {},
   "outputs": [
    {
     "data": {
      "text/plain": [
       "<matplotlib.legend.Legend at 0x3866e11208>"
      ]
     },
     "execution_count": 28,
     "metadata": {},
     "output_type": "execute_result"
    },
    {
     "data": {
      "image/png": "[encoded data removed]",
      "text/plain": [
       "<Figure size 432x432 with 1 Axes>"
      ]
     },
     "metadata": {
      "needs_background": "light"
     },
     "output_type": "display_data"
    }
   ],
   "source": [
    "labels=data_complete[:,4]\n",
    "\n",
    "student_passed = data_complete[labels == 1]\n",
    "student_failed = data_complete[labels == 0]\n",
    "# OR\n",
    "#student_passed = data_complete[data_complete[:,3] <.5]\n",
    "#student_failed = data_complete[data_complete[:,3] >=.5]\n",
    "\n",
    "\n",
    "# Show data\n",
    "fig, axes = plt.subplots(figsize=(6,6))\n",
    "#plt.plot([0, 1, 2])\n",
    "axes.plot(student_passed[:,1],student_passed[:,2],'bo',lw=1,label='Passed')\n",
    "axes.plot(student_failed[:,1],student_failed[:,2],'rs',lw=1,label='Failed')\n",
    "axes.set_xlabel('Exam 1',fontsize=15)\n",
    "axes.set_ylabel('Exam 2',fontsize=15)\n",
    "axes.grid()\n",
    "\n",
    "plt.title('Representation of the marks for two exams for 100 students',fontsize=10)\n",
    "plt.legend(loc='upper right',fontsize=10)"
   ]
  },
  {
   "cell_type": "markdown",
   "metadata": {},
   "source": [
    "b) we suppose that the lowprobabilities are between[0;.66] and the high probability are greater than.66 so we can write"
   ]
  },
  {
   "cell_type": "code",
   "execution_count": 30,
   "metadata": {},
   "outputs": [
    {
     "data": {
      "text/plain": [
       "<matplotlib.legend.Legend at 0x3866eead68>"
      ]
     },
     "execution_count": 30,
     "metadata": {},
     "output_type": "execute_result"
    },
    {
     "data": {
      "image/png": "[encoded data removed]",
      "text/plain": [
       "<Figure size 432x432 with 1 Axes>"
      ]
     },
     "metadata": {
      "needs_background": "light"
     },
     "output_type": "display_data"
    }
   ],
   "source": [
    "low_prob = data_complete[data_complete[:,3] <=.66]\n",
    "middle_high_prob = data_complete[data_complete[:,3]>.66]\n",
    "\n",
    "#show data\n",
    "fig, axes = plt.subplots(figsize=(6,6))\n",
    "axes.plot(middle_high_prob[:,1],middle_high_prob[:,2],'bo',lw=1,label='middle_high_prob')\n",
    "axes.plot(low_prob[:,1],low_prob[:,2],'rs',lw=1,label='low_prob')\n",
    "axes.set_xlabel('Exam 1',fontsize=15)\n",
    "axes.set_ylabel('Exam 2',fontsize=15)\n",
    "\n",
    "axes.grid()\n",
    "\n",
    "plt.title('Representation of the marks for two exams for 100 students',fontsize=10)\n",
    "plt.legend(loc='upper right',fontsize=10)"
   ]
  },
  {
   "cell_type": "markdown",
   "metadata": {},
   "source": [
    "c)"
   ]
  },
  {
   "cell_type": "code",
   "execution_count": 33,
   "metadata": {},
   "outputs": [
    {
     "data": {
      "text/plain": [
       "<matplotlib.legend.Legend at 0x3867645ef0>"
      ]
     },
     "execution_count": 33,
     "metadata": {},
     "output_type": "execute_result"
    },
    {
     "data": {
      "image/png": "[encoded data removed]",
      "text/plain": [
       "<Figure size 432x432 with 1 Axes>"
      ]
     },
     "metadata": {
      "needs_background": "light"
     },
     "output_type": "display_data"
    }
   ],
   "source": [
    "labels=data_complete[:,4]\n",
    "\n",
    "student_passed = data_complete[labels == 1]\n",
    "students_failed = data_complete[labels == 0]\n",
    "\n",
    "#show data\n",
    "fig, axes = plt.subplots(figsize=(6,6))\n",
    "#plt.plot([0, 1, 2])\n",
    "axes.plot(student_passed[:,1],student_passed[:,2],'bo',lw=1,label='passed')\n",
    "axes.plot(student_failed[:,1],student_failed[:,2],'rs',lw=1,label='failed')\n",
    "axes.set_xlabel('Exam 1',fontsize=15)\n",
    "axes.set_ylabel('Exam 2',fontsize=15)\n",
    "plt.plot([25.675, 100],[100, 24.227],linestyle='--',color='g',label='middle')\n",
    "axes.grid()\n",
    "\n",
    "plt.title('Representattion of the marks for two exams for the 100 students',fontsize=10)\n",
    "plt.legend(loc='upper right',fontsize=10)"
   ]
  },
  {
   "cell_type": "markdown",
   "metadata": {},
   "source": [
    "OR"
   ]
  },
  {
   "cell_type": "code",
   "execution_count": 34,
   "metadata": {},
   "outputs": [
    {
     "data": {
      "text/plain": [
       "<matplotlib.legend.Legend at 0x38676c6da0>"
      ]
     },
     "execution_count": 34,
     "metadata": {},
     "output_type": "execute_result"
    },
    {
     "data": {
      "image/png": "[encoded data removed]",
      "text/plain": [
       "<Figure size 504x504 with 1 Axes>"
      ]
     },
     "metadata": {
      "needs_background": "light"
     },
     "output_type": "display_data"
    }
   ],
   "source": [
    "low_prob = data_complete[data_complete[:,3] <.5]\n",
    "middle_high_prob = data_complete[data_complete[:,3]>=.5]\n",
    "\n",
    "#show data\n",
    "fig, axes =plt.subplots(figsize=(7,7))\n",
    "axes.plot(middle_high_prob[:,1],middle_high_prob[:,2],'bo',lw=1,label='middle_high_prob')\n",
    "axes.plot(low_prob[:,1],low_prob[:,2],'rs',lw=1,label='low_prob')\n",
    "axes.set_xlabel('Exam 1',fontsize=15)\n",
    "axes.set_ylabel('Exam 2',fontsize=15)\n",
    "plt.plot([25.675, 100],[100,24.227],linestyle='--',color='g',label='middle')\n",
    "axes.grid()\n",
    "plt.title('Representation of the marks for two exams for the 100 students',fontsize=10)\n",
    "plt.legend(loc='upper right',fontsize=10)\n"
   ]
  },
  {
   "cell_type": "markdown",
   "metadata": {},
   "source": [
    "# Exercices\n",
    "\n",
    "All questions below are independent of each other. "
   ]
  },
  {
   "cell_type": "markdown",
   "metadata": {},
   "source": [
    "## 1) Neural network with Pytorch\n",
    "\n",
    "Look below at the pytorch implementation of a fully connected neural network (do not try to run the cell). \n",
    "\n",
    "a) How is called this specific NN architecture ? In which cases can it be used ?\n",
    "\n",
    "b) How many weights, including bias terms, need to be determined for each layer and in total for this network ?\n",
    "\n",
    "c) Modify the code by introducing two layers of dimension `hidden_layer2=25` with a sigmoid activitation function.\n",
    "Be careful to respect this specific NN architecture."
   ]
  },
  {
   "cell_type": "raw",
   "metadata": {},
   "source": [
    "input_dim = 100\n",
    "hidden_layer1 = 50\n",
    "latence_space=10\n",
    "net = torch.nn.Sequential(\n",
    "    torch.nn.Linear(input_dim, hidden_layer1),     \n",
    "    torch.nn.ReLU(),                              \n",
    "    torch.nn.Linear(hidden_layer1, latence_space),            \n",
    "    torch.nn.ReLU(),                              \n",
    "    torch.nn.Linear(latence_space,hidden_layer1),                     \n",
    "    torch.nn.ReLU(),                              \n",
    "    torch.nn.Linear(hidden_layer1, input_dim),            \n",
    ")"
   ]
  },
  {
   "cell_type": "markdown",
   "metadata": {},
   "source": [
    "a) it is the simple NN Architecture.it can be used while we have one hidden layer and one output"
   ]
  },
  {
   "cell_type": "raw",
   "metadata": {},
   "source": [
    "b)how many weights, including bias terms; need to be determined for each layer and in total for this network"
   ]
  },
  {
   "cell_type": "code",
   "execution_count": 36,
   "metadata": {},
   "outputs": [
    {
     "data": {
      "text/plain": [
       "10"
      ]
     },
     "execution_count": 36,
     "metadata": {},
     "output_type": "execute_result"
    }
   ],
   "source": [
    "#for each layer\n",
    "500\n",
    "\n",
    "#total network\n",
    "10"
   ]
  },
  {
   "cell_type": "raw",
   "metadata": {},
   "source": [
    "input_dim = 50\n",
    "hidden_layer1 = 25\n",
    "latence_space=10\n",
    "net = torch.nn.Sequential(\n",
    "    torch.nn.Linear(input_dim, hidden_layer2),     \n",
    "    torch.nn.ReLU(),                              \n",
    "    torch.nn.Linear(hidden_layer2, latence_space),            \n",
    "    torch.nn.ReLU(),                              \n",
    "    torch.nn.Linear(latence_space,hidden_layer2),                     \n",
    "    torch.nn.ReLU(),                              \n",
    "    torch.nn.Linear(hidden_layer2, input_dim),            \n",
    ")"
   ]
  },
  {
   "cell_type": "markdown",
   "metadata": {},
   "source": [
    "## 2) Implementation of a simple NN with Numpy\n",
    "\n",
    "In the chap.3 of the lectures, pages 54-56, an illustration of a NN calculation is given. \n",
    "\n",
    "a) Implement this example, using **only** the `numpy` library, and check you obtain the same results as in page 56 after 1 iteration. For this define all necessary functions, apply forward pass and backward pass, etc.\n",
    "\n",
    "b) Give the result (weights, output value) after another iteration. "
   ]
  },
  {
   "cell_type": "code",
   "execution_count": 39,
   "metadata": {},
   "outputs": [],
   "source": [
    "#a)\n",
    "\n",
    "%matplotlib inline\n",
    "\n",
    "import numpy as np\n",
    "import matplotlib.pyplot as plt\n",
    "\n",
    "N =64      #N:input batch size\n",
    "D_in = 4 # D_in: input dimension\n",
    "H = 2     # H: hidden layer dimension;\n",
    "D_out = 1  # D_out: output dimension\n",
    "\n",
    "#Create random input and output (target) training data\n",
    "x = np.random.randn(N, D_in)\n",
    "y = np.random.randn(N, D_out)\n",
    "\n",
    "#Randomly initialize weights (no bias terms)\n",
    "w1 = np.random.randn(D_in, H)\n",
    "w2 = np.random.randn(H, D_out)\n",
    "learnig_rate = 1e-6"
   ]
  },
  {
   "cell_type": "code",
   "execution_count": 40,
   "metadata": {},
   "outputs": [
    {
     "name": "stdout",
     "output_type": "stream",
     "text": [
      "x: (64, 4)\n",
      "w1: (4, 2)\n",
      "w2: (2, 1)\n",
      "y: (64, 1)\n"
     ]
    }
   ],
   "source": [
    "### First let's look at the dimension  of data and weights\n",
    "\n",
    "print(\"x:\",x.shape)\n",
    "print(\"w1:\",w1.shape)\n",
    "print(\"w2:\",w2.shape)\n",
    "print(\"y:\",y.shape)"
   ]
  },
  {
   "cell_type": "code",
   "execution_count": 41,
   "metadata": {},
   "outputs": [],
   "source": [
    "### Forward pass: compute predicted.y\n",
    " \n",
    "h = x.dot(w1)\n",
    "h_relu = np.maximum(h, 0)\n",
    "y_pred =h_relu.dot(w2)"
   ]
  },
  {
   "cell_type": "code",
   "execution_count": 43,
   "metadata": {},
   "outputs": [
    {
     "name": "stdout",
     "output_type": "stream",
     "text": [
      "total cost: 162.9451850966609\n"
     ]
    }
   ],
   "source": [
    "### Calculate and print cost function\n",
    "\n",
    "cost =np.square(y_pred - y).sum()\n",
    "print('total cost:', cost)"
   ]
  },
  {
   "cell_type": "code",
   "execution_count": 50,
   "metadata": {},
   "outputs": [],
   "source": [
    "### Backprop to compute gradients of w1 and w2 with respect to the lost\n",
    "\n",
    "grad_y_pred = 2.0 * (y_pred - y)\n",
    "grad_w2 = h_relu.T.dot(grad_y_pred)\n",
    "grad_h_relu = grad_y_pred.dot(w2.T)\n",
    "grad_h = grad_h_relu.copy()\n",
    "grad_h[h < 0] = 0                 # if h<0 then set grad_h=0 \n",
    "grad_w1 = x.T.dot(grad_h)"
   ]
  },
  {
   "cell_type": "code",
   "execution_count": 51,
   "metadata": {},
   "outputs": [
    {
     "ename": "NameError",
     "evalue": "name 'learning_rate' is not defined",
     "output_type": "error",
     "traceback": [
      "\u001b[1;31m---------------------------------------------------------------------------\u001b[0m",
      "\u001b[1;31mNameError\u001b[0m                                 Traceback (most recent call last)",
      "\u001b[1;32m<ipython-input-51-da3557301dd2>\u001b[0m in \u001b[0;36m<module>\u001b[1;34m\u001b[0m\n\u001b[0;32m      2\u001b[0m \u001b[1;33m\u001b[0m\u001b[0m\n\u001b[0;32m      3\u001b[0m \u001b[1;31m#update weights\u001b[0m\u001b[1;33m\u001b[0m\u001b[1;33m\u001b[0m\u001b[1;33m\u001b[0m\u001b[0m\n\u001b[1;32m----> 4\u001b[1;33m \u001b[0mw1\u001b[0m \u001b[1;33m-=\u001b[0m \u001b[0mlearning_rate\u001b[0m \u001b[1;33m*\u001b[0m \u001b[0mgrad_w1\u001b[0m\u001b[1;33m\u001b[0m\u001b[1;33m\u001b[0m\u001b[0m\n\u001b[0m\u001b[0;32m      5\u001b[0m \u001b[0mw2\u001b[0m \u001b[1;33m-=\u001b[0m \u001b[0mlearning_rate\u001b[0m \u001b[1;33m*\u001b[0m \u001b[0mgrad_w2\u001b[0m\u001b[1;33m\u001b[0m\u001b[1;33m\u001b[0m\u001b[0m\n",
      "\u001b[1;31mNameError\u001b[0m: name 'learning_rate' is not defined"
     ]
    }
   ],
   "source": [
    "### Update weights w1 and w2\n",
    "\n",
    "#update weights\n",
    "w1 -= learning_rate * grad_w1\n",
    "w2 -= learning_rate * grad_w2"
   ]
  },
  {
   "cell_type": "markdown",
   "metadata": {},
   "source": [
    "### 3) Regression\n",
    "\n",
    "Describe the figure below. What is the difference between these models ? Which one seems to generalize better ?\n",
    "\n",
    "By the way is this figure an example of linear regression ? Why ?\n",
    "\n",
    "<center><img src=\"fit.png\" width=\"600\" /></center>\n"
   ]
  },
  {
   "cell_type": "markdown",
   "metadata": {},
   "source": [
    "the differences between this model are: test data model represent the model after training the models.\n",
    "    No regularization and ridge regul model evaluates the overfit of the model.\n",
    "    A figure is an example of linear regression because the data for x between 0.2 and 0.8 should be represented by a line."
   ]
  },
  {
   "cell_type": "markdown",
   "metadata": {},
   "source": []
  }
 ],
 "metadata": {
  "kernelspec": {
   "display_name": "Python 3",
   "language": "python",
   "name": "python3"
  },
  "language_info": {
   "codemirror_mode": {
    "name": "ipython",
    "version": 3
   },
   "file_extension": ".py",
   "mimetype": "text/x-python",
   "name": "python",
   "nbconvert_exporter": "python",
   "pygments_lexer": "ipython3",
   "version": "3.7.3"
  }
 },
 "nbformat": 4,
 "nbformat_minor": 2
}
