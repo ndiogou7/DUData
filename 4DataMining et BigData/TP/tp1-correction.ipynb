<html><head>
<meta http-equiv="content-type" content="text/html; charset=UTF-8"></head><body>{
 "cells": [
  {
   "cell_type": "code",
   "execution_count": 1,
   "metadata": {},
   "outputs": [],
   "source": [
    "import pandas as pd\n",
    "import numpy as np\n",
    "import matplotlib.pyplot as plt"
   ]
  },
  {
   "cell_type": "code",
   "execution_count": 2,
   "metadata": {},
   "outputs": [],
   "source": [
    "data=pd.read_csv(\"crx.data\",header=None)"
   ]
  },
  {
   "cell_type": "code",
   "execution_count": 3,
   "metadata": {},
   "outputs": [],
   "source": [
    "x=data.loc[:,0:data.shape[1]-2]\n",
    "y=data[data.shape[1]-1]\n",
    "x=x.replace('?',np.nan)"
   ]
  },
  {
   "cell_type": "code",
   "execution_count": 4,
   "metadata": {},
   "outputs": [],
   "source": [
    "x[1]=x[1].astype(float)"
   ]
  },
  {
   "cell_type": "code",
   "execution_count": 5,
   "metadata": {},
   "outputs": [],
   "source": [
    "n,p=x.shape\n",
    "c=len(np.unique(y))"
   ]
  },
  {
   "cell_type": "code",
   "execution_count": 6,
   "metadata": {},
   "outputs": [
    {
     "data": {
      "text/html": [
       "<div>\n",
       "<style scoped="">\n",
       "    .dataframe tbody tr th:only-of-type {\n",
       "        vertical-align: middle;\n",
       "    }\n",
       "\n",
       "    .dataframe tbody tr th {\n",
       "        vertical-align: top;\n",
       "    }\n",
       "\n",
       "    .dataframe thead th {\n",
       "        text-align: right;\n",
       "    }\n",
       "</style>\n",
       "\n",
       "  \n",
       "    \n",
       "      \n",
       "      \n",
       "      \n",
       "      \n",
       "      \n",
       "      \n",
       "    \n",
       "  \n",
       "  \n",
       "    \n",
       "      \n",
       "      \n",
       "      \n",
       "      \n",
       "      \n",
       "      \n",
       "    \n",
       "    \n",
       "      \n",
       "      \n",
       "      \n",
       "      \n",
       "      \n",
       "      \n",
       "    \n",
       "    \n",
       "      \n",
       "      \n",
       "      \n",
       "      \n",
       "      \n",
       "      \n",
       "    \n",
       "    \n",
       "      \n",
       "      \n",
       "      \n",
       "      \n",
       "      \n",
       "      \n",
       "    \n",
       "    \n",
       "      \n",
       "      \n",
       "      \n",
       "      \n",
       "      \n",
       "      \n",
       "    \n",
       "    \n",
       "      \n",
       "      \n",
       "      \n",
       "      \n",
       "      \n",
       "      \n",
       "    \n",
       "    \n",
       "      \n",
       "      \n",
       "      \n",
       "      \n",
       "      \n",
       "      \n",
       "    \n",
       "    \n",
       "      \n",
       "      \n",
       "      \n",
       "      \n",
       "      \n",
       "      \n",
       "    \n",
       "  \n",
       "<table class="\&quot;dataframe\&quot;" border="\&quot;1\&quot;"><thead><tr style="\&quot;text-align:" right;\"=""><th></th><th>1</th><th>2</th><th>7</th><th>10</th><th>14</th></tr></thead><tbody><tr><th>count</th><td>678.000000</td><td>690.000000</td><td>690.000000</td><td>690.00000</td><td>690.000000</td></tr><tr><th>mean</th><td>31.568171</td><td>4.758725</td><td>2.223406</td><td>2.40000</td><td>1017.385507</td></tr><tr><th>std</th><td>11.957862</td><td>4.978163</td><td>3.346513</td><td>4.86294</td><td>5210.102598</td></tr><tr><th>min</th><td>13.750000</td><td>0.000000</td><td>0.000000</td><td>0.00000</td><td>0.000000</td></tr><tr><th>25%</th><td>22.602500</td><td>1.000000</td><td>0.165000</td><td>0.00000</td><td>0.000000</td></tr><tr><th>50%</th><td>28.460000</td><td>2.750000</td><td>1.000000</td><td>0.00000</td><td>5.000000</td></tr><tr><th>75%</th><td>38.230000</td><td>7.207500</td><td>2.625000</td><td>3.00000</td><td>395.500000</td></tr><tr><th>max</th><td>80.250000</td><td>28.000000</td><td>28.500000</td><td>67.00000</td><td>100000.000000</td></tr></tbody></table>\n",
       "</div>"
      ],
      "text/plain": [
       "               1           2           7          10             14\n",
       "count  678.000000  690.000000  690.000000  690.00000     690.000000\n",
       "mean    31.568171    4.758725    2.223406    2.40000    1017.385507\n",
       "std     11.957862    4.978163    3.346513    4.86294    5210.102598\n",
       "min     13.750000    0.000000    0.000000    0.00000       0.000000\n",
       "25%     22.602500    1.000000    0.165000    0.00000       0.000000\n",
       "50%     28.460000    2.750000    1.000000    0.00000       5.000000\n",
       "75%     38.230000    7.207500    2.625000    3.00000     395.500000\n",
       "max     80.250000   28.000000   28.500000   67.00000  100000.000000"
      ]
     },
     "execution_count": 6,
     "metadata": {},
     "output_type": "execute_result"
    }
   ],
   "source": [
    "x.describe()"
   ]
  },
  {
   "cell_type": "code",
   "execution_count": 7,
   "metadata": {},
   "outputs": [
    {
     "data": {
      "text/html": [
       "<div>\n",
       "<style scoped="">\n",
       "    .dataframe tbody tr th:only-of-type {\n",
       "        vertical-align: middle;\n",
       "    }\n",
       "\n",
       "    .dataframe tbody tr th {\n",
       "        vertical-align: top;\n",
       "    }\n",
       "\n",
       "    .dataframe thead th {\n",
       "        text-align: right;\n",
       "    }\n",
       "</style>\n",
       "\n",
       "  \n",
       "    \n",
       "      \n",
       "      \n",
       "      \n",
       "      \n",
       "      \n",
       "      \n",
       "      \n",
       "      \n",
       "      \n",
       "      \n",
       "      \n",
       "    \n",
       "  \n",
       "  \n",
       "    \n",
       "      \n",
       "      \n",
       "      \n",
       "      \n",
       "      \n",
       "      \n",
       "      \n",
       "      \n",
       "      \n",
       "      \n",
       "      \n",
       "    \n",
       "  \n",
       "<table class="\&quot;dataframe\&quot;" border="\&quot;1\&quot;"><thead><tr style="\&quot;text-align:" right;\"=""><th></th><th>0</th><th>3</th><th>4</th><th>5</th><th>6</th><th>8</th><th>9</th><th>11</th><th>12</th><th>13</th></tr></thead><tbody><tr><th>0</th><td>b</td><td>u</td><td>g</td><td>c</td><td>v</td><td>t</td><td>f</td><td>f</td><td>g</td><td>00000</td></tr></tbody></table>\n",
       "</div>"
      ],
      "text/plain": [
       "  0  3  4  5  6  8  9  11 12     13\n",
       "0  b  u  g  c  v  t  f  f  g  00000"
      ]
     },
     "execution_count": 7,
     "metadata": {},
     "output_type": "execute_result"
    }
   ],
   "source": [
    "idxCat=[0,3,4,5,6,8,9,11,12,13]\n",
    "x[idxCat].mode()"
   ]
  },
  {
   "cell_type": "code",
   "execution_count": 8,
   "metadata": {},
   "outputs": [
    {
     "name": "stdout",
     "output_type": "stream",
     "text": [
      "['b' 'a' nan]\n",
      "['u' 'y' nan 'l']\n",
      "['g' 'p' nan 'gg']\n",
      "['w' 'q' 'm' 'r' 'cc' 'k' 'c' 'd' 'x' 'i' 'e' 'aa' 'ff' 'j' 
nan]\n",
      "['v' 'h' 'bb' 'ff' 'j' 'z' nan 'o' 'dd' 'n']\n",
      "['t' 'f']\n",
      "['t' 'f']\n",
      "['f' 't']\n",
      "['g' 's' 'p']\n",
      "['00202' '00043' '00280' '00100' '00120' '00360' '00164' '00080' 
'00180'\n",
      " '00052' '00128' '00260' '00000' '00320' '00396' '00096' '00200' 
'00300'\n",
      " '00145' '00500' '00168' '00434' '00583' '00030' '00240' '00070' 
'00455'\n",
      " '00311' '00216' '00491' '00400' '00239' '00160' '00711' '00250' 
'00520'\n",
      " '00515' '00420' nan '00980' '00443' '00140' '00094' '00368' 
'00288'\n",
      " '00928' '00188' '00112' '00171' '00268' '00167' '00075' '00152' 
'00176'\n",
      " '00329' '00212' '00410' '00274' '00375' '00408' '00350' '00204' 
'00040'\n",
      " '00181' '00399' '00440' '00093' '00060' '00395' '00393' '00021' 
'00029'\n",
      " '00102' '00431' '00370' '00024' '00020' '00129' '00510' '00195' 
'00144'\n",
      " '00380' '00049' '00050' '00381' '00150' '00117' '00056' '00211' 
'00230'\n",
      " '00156' '00022' '00228' '00519' '00253' '00487' '00220' '00088' 
'00073'\n",
      " '00121' '00470' '00136' '00132' '00292' '00154' '00272' '00340' 
'00108'\n",
      " '00720' '00450' '00232' '00170' '01160' '00411' '00460' '00348' 
'00480'\n",
      " '00640' '00372' '00276' '00221' '00352' '00141' '00178' '00600' 
'00550'\n",
      " '02000' '00225' '00210' '00110' '00356' '00045' '00062' '00092' 
'00174'\n",
      " '00017' '00086' '00454' '00254' '00028' '00263' '00333' '00312' 
'00290'\n",
      " '00371' '00099' '00252' '00760' '00560' '00130' '00523' '00680' 
'00163'\n",
      " '00208' '00383' '00330' '00422' '00840' '00432' '00032' '00186' 
'00303'\n",
      " '00349' '00224' '00369' '00076' '00231' '00309' '00416' '00465' 
'00256']\n"
     ]
    }
   ],
   "source": [
    "for i,idxi in enumerate(idxCat):\n",
    "    print(x[idxi].unique())\n"
   ]
  },
  {
   "cell_type": "code",
   "execution_count": 9,
   "metadata": {},
   "outputs": [
    {
     "data": {
      "text/plain": [
       "0     1.739130\n",
       "1     1.739130\n",
       "2     0.000000\n",
       "3     0.869565\n",
       "4     0.869565\n",
       "5     1.304348\n",
       "6     1.304348\n",
       "7     0.000000\n",
       "8     0.000000\n",
       "9     0.000000\n",
       "10    0.000000\n",
       "11    0.000000\n",
       "12    0.000000\n",
       "13    1.884058\n",
       "14    0.000000\n",
       "dtype: float64"
      ]
     },
     "execution_count": 9,
     "metadata": {},
     "output_type": "execute_result"
    }
   ],
   "source": [
    "x.isnull().sum()*100/n"
   ]
  },
  {
   "cell_type": "code",
   "execution_count": 10,
   "metadata": {},
   "outputs": [],
   "source": [
    
"x.columns=['Gender','Age','Debt','Married','bankCustomer','EducationLevel','Ethnicity','YearsEmployed','PriorDefault','Employed','CreditScore','DriversLicense','Citizen','ZipCode','Income']\n",

    "#x.info()\n",
    "x=x.replace('t',1)\n",
    "x=x.replace('f',0)\n",
    "\n",
    "x['Gender']=x['Gender'].replace('a','m')\n",
    "x['Gender']=x['Gender'].replace('b','f')\n",
    "\n",
    "x['ZipCode']=x['ZipCode'].replace('00000',np.nan)"
   ]
  },
  {
   "cell_type": "code",
   "execution_count": 11,
   "metadata": {},
   "outputs": [],
   "source": [
    
"x[['PriorDefault','Employed','DriversLicense']]=x[['PriorDefault','Employed','DriversLicense']].astype(bool)"

   ]
  },
  {
   "cell_type": "code",
   "execution_count": 12,
   "metadata": {},
   "outputs": [
    {
     "data": {
      "text/plain": [
       "Gender             1.739130\n",
       "Age                1.739130\n",
       "Debt               0.000000\n",
       "Married            0.869565\n",
       "bankCustomer       0.869565\n",
       "EducationLevel     1.304348\n",
       "Ethnicity          1.304348\n",
       "YearsEmployed      0.000000\n",
       "PriorDefault       0.000000\n",
       "Employed           0.000000\n",
       "CreditScore        0.000000\n",
       "DriversLicense     0.000000\n",
       "Citizen            0.000000\n",
       "ZipCode           21.014493\n",
       "Income             0.000000\n",
       "dtype: float64"
      ]
     },
     "execution_count": 12,
     "metadata": {},
     "output_type": "execute_result"
    }
   ],
   "source": [
    "x.isnull().sum()*100/n"
   ]
  },
  {
   "cell_type": "code",
   "execution_count": 13,
   "metadata": {},
   "outputs": [],
   "source": [
    "x=x.drop(['ZipCode'],axis=1)"
   ]
  },
  {
   "cell_type": "code",
   "execution_count": 14,
   "metadata": {},
   "outputs": [],
   "source": [
    "modeValues=x.mode()      # dataframe\n",
    "medianValues=x.median() # series\n",
    "\n",
    "# categorical data \n",
    "x['Gender'].fillna(value=modeValues['Gender'][0],inplace=True)\n",
    
"x['Married'].fillna(value=modeValues['Married'][0],inplace=True)\n",
    
"x['bankCustomer'].fillna(value=modeValues['bankCustomer'][0],inplace=True)\n",

    
"x['EducationLevel'].fillna(value=modeValues['EducationLevel'][0],inplace=True)\n",

    
"x['Ethnicity'].fillna(value=modeValues['Ethnicity'][0],inplace=True)\n",

    "\n",
    "# numerical data\n",
    "x['Age'].fillna(value=medianValues['Age'],inplace=True)"
   ]
  },
  {
   "cell_type": "code",
   "execution_count": 17,
   "metadata": {},
   "outputs": [
    {
     "data": {
      "image/png": 
"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\n",

      "text/plain": [
       "<figure size="" 432x288="" with="" 1="" axes="">"
      ]
     },
     "metadata": {},
     "output_type": "display_data"
    }
   ],
   "source": [
    "plt.hist(x['Age'],bins=10);"
   ]
  },
  {
   "cell_type": "code",
   "execution_count": 16,
   "metadata": {},
   "outputs": [
    {
     "data": {
      "text/html": [
       "<div>\n",
       "<style scoped="">\n",
       "    .dataframe tbody tr th:only-of-type {\n",
       "        vertical-align: middle;\n",
       "    }\n",
       "\n",
       "    .dataframe tbody tr th {\n",
       "        vertical-align: top;\n",
       "    }\n",
       "\n",
       "    .dataframe thead th {\n",
       "        text-align: right;\n",
       "    }\n",
       "</style>\n",
       "\n",
       "  \n",
       "    \n",
       "      \n",
       "      \n",
       "      \n",
       "      \n",
       "      \n",
       "      \n",
       "      \n",
       "      \n",
       "      \n",
       "      \n",
       "      \n",
       "      \n",
       "      \n",
       "      \n",
       "      \n",
       "    \n",
       "  \n",
       "  \n",
       "    \n",
       "      \n",
       "      \n",
       "      \n",
       "      \n",
       "      \n",
       "      \n",
       "      \n",
       "      \n",
       "      \n",
       "      \n",
       "      \n",
       "      \n",
       "      \n",
       "      \n",
       "      \n",
       "    \n",
       "    \n",
       "      \n",
       "      \n",
       "      \n",
       "      \n",
       "      \n",
       "      \n",
       "      \n",
       "      \n",
       "      \n",
       "      \n",
       "      \n",
       "      \n",
       "      \n",
       "      \n",
       "      \n",
       "    \n",
       "    \n",
       "      \n",
       "      \n",
       "      \n",
       "      \n",
       "      \n",
       "      \n",
       "      \n",
       "      \n",
       "      \n",
       "      \n",
       "      \n",
       "      \n",
       "      \n",
       "      \n",
       "      \n",
       "    \n",
       "    \n",
       "      \n",
       "      \n",
       "      \n",
       "      \n",
       "      \n",
       "      \n",
       "      \n",
       "      \n",
       "      \n",
       "      \n",
       "      \n",
       "      \n",
       "      \n",
       "      \n",
       "      \n",
       "    \n",
       "    \n",
       "      \n",
       "      \n",
       "      \n",
       "      \n",
       "      \n",
       "      \n",
       "      \n",
       "      \n",
       "      \n",
       "      \n",
       "      \n",
       "      \n",
       "      \n",
       "      \n",
       "      \n",
       "    \n",
       "  \n",
       "<table class="\&quot;dataframe\&quot;" border="\&quot;1\&quot;"><thead><tr style="\&quot;text-align:" right;\"=""><th></th><th>Gender</th><th>Age</th><th>Debt</th><th>Married</th><th>bankCustomer</th><th>EducationLevel</th><th>Ethnicity</th><th>YearsEmployed</th><th>PriorDefault</th><th>Employed</th><th>CreditScore</th><th>DriversLicense</th><th>Citizen</th><th>Income</th></tr></thead><tbody><tr><th>0</th><td>f</td><td>30.83</td><td>0.000</td><td>u</td><td>g</td><td>w</td><td>v</td><td>1.25</td><td>True</td><td>True</td><td>1</td><td>False</td><td>g</td><td>0</td></tr><tr><th>1</th><td>m</td><td>58.67</td><td>4.460</td><td>u</td><td>g</td><td>q</td><td>h</td><td>3.04</td><td>True</td><td>True</td><td>6</td><td>False</td><td>g</td><td>560</td></tr><tr><th>2</th><td>m</td><td>24.50</td><td>0.500</td><td>u</td><td>g</td><td>q</td><td>h</td><td>1.50</td><td>True</td><td>False</td><td>0</td><td>False</td><td>g</td><td>824</td></tr><tr><th>3</th><td>f</td><td>27.83</td><td>1.540</td><td>u</td><td>g</td><td>w</td><td>v</td><td>3.75</td><td>True</td><td>True</td><td>5</td><td>True</td><td>g</td><td>3</td></tr><tr><th>4</th><td>f</td><td>20.17</td><td>5.625</td><td>u</td><td>g</td><td>w</td><td>v</td><td>1.71</td><td>True</td><td>False</td><td>0</td><td>False</td><td>s</td><td>0</td></tr></tbody></table>\n",
       "</div>"
      ],
      "text/plain": [
       "  Gender    Age   Debt Married bankCustomer EducationLevel Ethnicity  \\\n",
       "0      f  30.83  0.000       u            g              w         v   \n",
       "1      m  58.67  4.460       u            g              q         h   \n",
       "2      m  24.50  0.500       u            g              q         h   \n",
       "3      f  27.83  1.540       u            g              w         v   \n",
       "4      f  20.17  5.625       u            g              w         v   \n",
       "\n",
       "   YearsEmployed  PriorDefault  Employed  CreditScore  DriversLicense Citizen  \\\n",
       "0           1.25          True      True            1           False       g   \n",
       "1           3.04          True      True            6           False       g   \n",
       "2           1.50          True     False            0           False       g   \n",
       "3           3.75          True      True            5            True       g   \n",
       "4           1.71          True     False            0           False       s   \n",
       "\n",
       "   Income  \n",
       "0       0  \n",
       "1     560  \n",
       "2     824  \n",
       "3       3  \n",
       "4       0  "
      ]
     },
     "execution_count": 16,
     "metadata": {},
     "output_type": "execute_result"
    }
   ],
   "source": [
    "x.head()"
   ]
  },
  {
   "cell_type": "code",
   "execution_count": null,
   "metadata": {},
   "outputs": [],
   "source": []
  }
 ],
 "metadata": {
  "kernelspec": {
   "display_name": "Python 3",
   "language": "python",
   "name": "python3"
  },
  "language_info": {
   "codemirror_mode": {
    "name": "ipython",
    "version": 3
   },
   "file_extension": ".py",
   "mimetype": "text/x-python",
   "name": "python",
   "nbconvert_exporter": "python",
   "pygments_lexer": "ipython3",
   "version": "3.7.4"
  }
 },
 "nbformat": 4,
 "nbformat_minor": 2
}
</figure></body></html>